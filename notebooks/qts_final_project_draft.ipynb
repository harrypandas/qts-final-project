{
 "cells": [
  {
   "cell_type": "markdown",
   "metadata": {},
   "source": [
    "# FINM 33150 | Final Project Draft\n",
    "\n",
    "Stephen Coley, Harrison Holt, Josh, Kyle Parran\n",
    "\n",
    "Feb-24-2025"
   ]
  },
  {
   "cell_type": "markdown",
   "metadata": {},
   "source": [
    "## Setup"
   ]
  },
  {
   "cell_type": "code",
   "execution_count": 7,
   "metadata": {},
   "outputs": [],
   "source": [
    "import pandas as pd\n",
    "import numpy as np\n",
    "import nasdaqdatalink as ndl\n",
    "import quandl\n",
    "from dotenv import load_dotenv\n",
    "import os\n",
    "import datetime\n",
    "from datetime import timedelta\n",
    "from plotnine import ggplot, aes, geom_line, scale_color_manual, geom_hline, labs, theme, element_text, facet_wrap, geom_histogram, ggtitle, geom_boxplot, stat_function, geom_density\n",
    "from scipy.stats import norm\n",
    "from statsmodels.tsa.seasonal import seasonal_decompose\n",
    "import matplotlib.pyplot as plt\n",
    "from matplotlib.ticker import ScalarFormatter\n",
    "from matplotlib.ticker import FuncFormatter\n",
    "import seaborn as sns\n",
    "import warnings\n",
    "from mpl_toolkits.mplot3d import Axes3D\n",
    "import functools\n",
    "from scipy.stats import zscore\n",
    "from sklearn.decomposition import PCA\n",
    "\n",
    "warnings.filterwarnings(\"ignore\")\n",
    "\n",
    "pd.set_option('display.max_columns', None)\n",
    "pd.set_option('display.max_rows', None)\n",
    "\n",
    "load_dotenv()\n",
    "\n",
    "ndl.ApiConfig.api_key = os.getenv('NDL_API_KEY')\n",
    "quandl.ApiConfig.api_key = os.getenv('NDL_API_KEY')\n",
    "\n",
    "quandl_api_key = os.getenv('NDL_API_KEY')"
   ]
  },
  {
   "cell_type": "markdown",
   "metadata": {},
   "source": [
    "## Quandl Function"
   ]
  },
  {
   "cell_type": "code",
   "execution_count": 7,
   "metadata": {},
   "outputs": [],
   "source": [
    "def grab_quandl_table(\n",
    "    table_path,\n",
    "    avoid_download=False,\n",
    "    replace_existing=False,\n",
    "    date_override=None,\n",
    "    allow_old_file=False,\n",
    "    **kwargs,\n",
    "):\n",
    "    root_data_dir = os.path.join(os.path.expanduser(\"~\"), \"quandl_data_table_downloads\")\n",
    "    if not os.path.exists(root_data_dir):\n",
    "        print(f\"Directory does not exist. Creating: {root_data_dir}\")\n",
    "        os.makedirs(root_data_dir, exist_ok=True)\n",
    "    else:\n",
    "        print(f\"Directory already exists: {root_data_dir}\")\n",
    "\n",
    "    data_symlink = os.path.normpath(os.path.join(root_data_dir, f\"{table_path}_latest.zip\"))\n",
    "\n",
    "    if avoid_download and os.path.exists(data_symlink):\n",
    "        print(f\"Skipping any possible download of {table_path}\")\n",
    "        return data_symlink\n",
    "    \n",
    "    table_dir = os.path.dirname(data_symlink)\n",
    "\n",
    "    print(table_dir)\n",
    "    if not os.path.isdir(table_dir):\n",
    "        print(f'Creating new data dir {table_dir}')\n",
    "        os.mkdir(table_dir)\n",
    "\n",
    "    if date_override is None:\n",
    "        my_date = datetime.datetime.now().strftime(\"%Y%m%d\")\n",
    "    else:\n",
    "        my_date = date_override\n",
    "    data_file = os.path.normpath(os.path.join(root_data_dir, f\"{table_path}_{my_date}.zip\"))\n",
    "\n",
    "    if os.path.exists(data_file):\n",
    "        file_size = os.stat(data_file).st_size\n",
    "        if replace_existing or not file_size > 0:\n",
    "            print(f\"Removing old file {data_file} size {file_size}\")\n",
    "        else:\n",
    "            print(\n",
    "                f\"Data file {data_file} size {file_size} exists already, no need to download\"\n",
    "            )\n",
    "            return data_file\n",
    "\n",
    "    dl = quandl.export_table(\n",
    "        table_path, \n",
    "        filename=data_file, \n",
    "        api_key=os.getenv('NDL_API_KEY'), \n",
    "        **kwargs\n",
    "    )\n",
    "    file_size = os.stat(data_file).st_size\n",
    "    if os.path.exists(data_file) and file_size > 0:\n",
    "        print(f\"Download finished: {file_size} bytes\")\n",
    "        print(data_symlink)\n",
    "        if not date_override:\n",
    "            if os.path.exists(data_symlink):\n",
    "                print(f\"Removing old symlink\")\n",
    "                os.unlink(data_symlink)\n",
    "            print(f\"Creating symlink: {data_file} -> {data_symlink}\")\n",
    "            os.symlink(\n",
    "                data_file, data_symlink,\n",
    "            )\n",
    "    else:\n",
    "        print(f\"Data file {data_file} failed download\")\n",
    "        return\n",
    "    return data_symlink if (date_override is None or allow_old_file) else \"NoFileAvailable\"\n",
    "\n",
    "\n",
    "def fetch_quandl_table(table_path, avoid_download=True, **kwargs):\n",
    "    return pd.read_csv(\n",
    "        grab_quandl_table(table_path, avoid_download=avoid_download, **kwargs)\n",
    "    )"
   ]
  },
  {
   "cell_type": "code",
   "execution_count": null,
   "metadata": {},
   "outputs": [],
   "source": [
    "eod_data = fetch_quandl_table(\n",
    "    'QUOTEMEDIA/PRICES', \n",
    "    avoid_download=True,\n",
    ")"
   ]
  },
  {
   "cell_type": "code",
   "execution_count": null,
   "metadata": {},
   "outputs": [],
   "source": [
    "zacks_fc = fetch_quandl_table('ZACKS/FC', per_end_date = {'gte':start_filing_date, 'lte':end_filing_date}, avoid_download=True)\n",
    "zacks_fr = fetch_quandl_table('ZACKS/FR', per_end_date = {'gte':start_filing_date, 'lte':end_filing_date}, avoid_download=True)\n",
    "zacks_mt = fetch_quandl_table('ZACKS/MT', avoid_download=True)\n",
    "zacks_mktv = fetch_quandl_table('ZACKS/MKTV', per_end_date = {'gte':start_filing_date, 'lte':end_filing_date}, avoid_download=True)\n",
    "zacks_shrs = fetch_quandl_table('ZACKS/SHRS', per_end_date = {'gte':start_filing_date, 'lte':end_filing_date}, avoid_download=True)\n",
    "zacks_hdm = fetch_quandl_table('ZACKS/HDM', avoid_download=True)"
   ]
  },
  {
   "cell_type": "markdown",
   "metadata": {},
   "source": [
    "## The Task\n",
    "\n",
    "The end goal here is to invent, simulate, and analyze a quantitative trading strategy.\n",
    "\n",
    "Our initial ideas for a strategy include:\n",
    "\n",
    "\n",
    "Once we determine a viable strategy we will need to ensure such a strategy has the following features:\n",
    "- Investment in publicly traded (but not necessarily electronically traded) assets\n",
    "- A \"recipe\" for evaluating attractiveness of potential trades that\n",
    "    - depend on pre-specified classes of info\n",
    "    - could be followed by anyone, given the recipe and data sources\n",
    "- A \"recipe\" for investment sizes, and position entry and exit rules, that\n",
    "    - may link position size to attractiveness\n",
    "    - ensures risk stays within limits and capital remains bounded\n",
    "    - makes reasonable assumptions about entry and exit liquidity\n",
    "\n",
    "Elements of trading strategies include lead-lag relationships, market making, carry trades, pair trading, factor investment, model reversion, merger arbitrage, technical signals, etc.\n",
    "\n",
    "Our strategy should have the following features:\n",
    "- Significant dependence on at least one class of information that is not twitter, equity ohlc, equity VWAPs, or equity trading volumes, unelss at a relatively high frequency (600 secs or less)\n",
    "- As of at least some times in your simulation, simultaneously holds at least 5 distinct assets (different currencies, commodities, option maturities/strikes etc.)\n",
    "- Produces a total of 40 trades or more over your entire analysis/simulation period, without excessive clustering\n",
    "- Leverage, with documented and reasonable capital and risk control assumptions\n"
   ]
  }
 ],
 "metadata": {
  "kernelspec": {
   "display_name": "finm",
   "language": "python",
   "name": "python3"
  },
  "language_info": {
   "codemirror_mode": {
    "name": "ipython",
    "version": 3
   },
   "file_extension": ".py",
   "mimetype": "text/x-python",
   "name": "python",
   "nbconvert_exporter": "python",
   "pygments_lexer": "ipython3",
   "version": "3.12.1"
  }
 },
 "nbformat": 4,
 "nbformat_minor": 2
}
